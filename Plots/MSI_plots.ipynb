{
 "cells": [
  {
   "cell_type": "code",
   "execution_count": 1,
   "metadata": {},
   "outputs": [],
   "source": [
    "import pandas as pd\n",
    "import matplotlib.pyplot as plt\n",
    "data = pd.read_csv('msi_distribution.txt', sep= '\\t')"
   ]
  },
  {
   "cell_type": "code",
   "execution_count": 2,
   "metadata": {},
   "outputs": [
    {
     "data": {
      "image/png": "[encoded data removed]",
      "text/plain": [
       "<Figure size 432x288 with 1 Axes>"
      ]
     },
     "metadata": {
      "needs_background": "light"
     },
     "output_type": "display_data"
    }
   ],
   "source": [
    "ones = [1]*143\n",
    "plt.scatter(ones,data)\n",
    "plt.show()"
   ]
  },
  {
   "cell_type": "code",
   "execution_count": 168,
   "metadata": {},
   "outputs": [
    {
     "data": {
      "text/html": [
       "<div>\n",
       "<style scoped>\n",
       "    .dataframe tbody tr th:only-of-type {\n",
       "        vertical-align: middle;\n",
       "    }\n",
       "\n",
       "    .dataframe tbody tr th {\n",
       "        vertical-align: top;\n",
       "    }\n",
       "\n",
       "    .dataframe thead th {\n",
       "        text-align: right;\n",
       "    }\n",
       "</style>\n",
       "<table border=\"1\" class=\"dataframe\">\n",
       "  <thead>\n",
       "    <tr style=\"text-align: right;\">\n",
       "      <th></th>\n",
       "      <th>sample</th>\n",
       "      <th>%</th>\n",
       "      <th>State</th>\n",
       "    </tr>\n",
       "  </thead>\n",
       "  <tbody>\n",
       "    <tr>\n",
       "      <th>0</th>\n",
       "      <td>LP11</td>\n",
       "      <td>6.67</td>\n",
       "      <td>MMRp</td>\n",
       "    </tr>\n",
       "    <tr>\n",
       "      <th>1</th>\n",
       "      <td>LP12</td>\n",
       "      <td>0.00</td>\n",
       "      <td>MMRp</td>\n",
       "    </tr>\n",
       "    <tr>\n",
       "      <th>2</th>\n",
       "      <td>LP13</td>\n",
       "      <td>6.78</td>\n",
       "      <td>MMRp</td>\n",
       "    </tr>\n",
       "    <tr>\n",
       "      <th>3</th>\n",
       "      <td>LP15</td>\n",
       "      <td>7.14</td>\n",
       "      <td>MMRp</td>\n",
       "    </tr>\n",
       "    <tr>\n",
       "      <th>4</th>\n",
       "      <td>LP16</td>\n",
       "      <td>51.35</td>\n",
       "      <td>MMRp</td>\n",
       "    </tr>\n",
       "  </tbody>\n",
       "</table>\n",
       "</div>"
      ],
      "text/plain": [
       "  sample      % State\n",
       "0   LP11   6.67  MMRp\n",
       "1   LP12   0.00  MMRp\n",
       "2   LP13   6.78  MMRp\n",
       "3   LP15   7.14  MMRp\n",
       "4   LP16  51.35  MMRp"
      ]
     },
     "execution_count": 168,
     "metadata": {},
     "output_type": "execute_result"
    }
   ],
   "source": [
    "import pandas as pd\n",
    "import matplotlib.pyplot as plt\n",
    "data_msi = pd.read_csv('MSI_total.txt', sep = '\\t')\n",
    "data_msi['State']='MMRp'\n",
    "data_msi.head()"
   ]
  },
  {
   "cell_type": "code",
   "execution_count": 169,
   "metadata": {},
   "outputs": [],
   "source": [
    "msi_samples = ['LP16', 'LP17', 'LP18', 'LP19','LP20', 'LP21', 'LP22', 'LP24', 'LP25', 'LP26', 'LP30', 'LP37',\n",
    "               'LP124', 'OVE16','OVE31', 'OVE42', 'OVE59', 'OVE64', 'OVE86', '16T131', 'MDA5', 'MDA9', 'MDA15',\n",
    "               'MDA16-NG', 'MDA16']"
   ]
  },
  {
   "cell_type": "code",
   "execution_count": 170,
   "metadata": {},
   "outputs": [],
   "source": [
    "for msi in msi_samples:\n",
    "    if msi in data_msi['sample'].values:\n",
    "        data_msi.loc[data_msi['sample'] == msi, 'State'] = 'MMRd'"
   ]
  },
  {
   "cell_type": "code",
   "execution_count": 171,
   "metadata": {
    "scrolled": true
   },
   "outputs": [
    {
     "data": {
      "text/html": [
       "<div>\n",
       "<style scoped>\n",
       "    .dataframe tbody tr th:only-of-type {\n",
       "        vertical-align: middle;\n",
       "    }\n",
       "\n",
       "    .dataframe tbody tr th {\n",
       "        vertical-align: top;\n",
       "    }\n",
       "\n",
       "    .dataframe thead th {\n",
       "        text-align: right;\n",
       "    }\n",
       "</style>\n",
       "<table border=\"1\" class=\"dataframe\">\n",
       "  <thead>\n",
       "    <tr style=\"text-align: right;\">\n",
       "      <th></th>\n",
       "      <th>sample</th>\n",
       "      <th>%</th>\n",
       "      <th>State</th>\n",
       "    </tr>\n",
       "  </thead>\n",
       "  <tbody>\n",
       "  </tbody>\n",
       "</table>\n",
       "</div>"
      ],
      "text/plain": [
       "Empty DataFrame\n",
       "Columns: [sample, %, State]\n",
       "Index: []"
      ]
     },
     "execution_count": 171,
     "metadata": {},
     "output_type": "execute_result"
    }
   ],
   "source": [
    "data_msi.loc[data_msi[\"sample\"]==\"OVE61\"]"
   ]
  },
  {
   "cell_type": "code",
   "execution_count": 172,
   "metadata": {},
   "outputs": [
    {
     "data": {
      "image/png": "[encoded data removed]",
      "text/plain": [
       "<Figure size 468x648 with 1 Axes>"
      ]
     },
     "metadata": {
      "needs_background": "light"
     },
     "output_type": "display_data"
    }
   ],
   "source": [
    "import seaborn as sns\n",
    "order_list = ['MMRp', 'MMRd']\n",
    "sns.violinplot(x='State', y='%', data=data_msi, color=\"0.8\",cut=0, order=order_list)\n",
    "sns.stripplot(x='State', y='%', data=data_msi, jitter=True, order=order_list,\n",
    "              palette = ['steelblue', 'darkorange'])\n",
    "plt.savefig('MSI_plot.png')\n",
    "plt.show()"
   ]
  },
  {
   "cell_type": "code",
   "execution_count": 177,
   "metadata": {},
   "outputs": [
    {
     "name": "stdout",
     "output_type": "stream",
     "text": [
      "p-value annotation legend:\n",
      "ns: 5.00e-02 < p <= 1.00e+00\n",
      "*: 1.00e-02 < p <= 5.00e-02\n",
      "**: 1.00e-03 < p <= 1.00e-02\n",
      "***: 1.00e-04 < p <= 1.00e-03\n",
      "****: p <= 1.00e-04\n",
      "\n",
      "MMRp v.s. MMRd: Mann-Whitney-Wilcoxon test two-sided with Bonferroni correction, P_val=5.893e-06 U_stat=3.230e+02\n"
     ]
    },
    {
     "data": {
      "image/png": "[encoded data removed]",
      "text/plain": [
       "<Figure size 468x648 with 1 Axes>"
      ]
     },
     "metadata": {
      "needs_background": "light"
     },
     "output_type": "display_data"
    }
   ],
   "source": [
    "import statannot\n",
    "import random\n",
    "import numpy as np\n",
    "\n",
    "order_list = ['MMRp', 'MMRd']\n",
    "plt.rcParams[\"figure.figsize\"] = (6.5,9)\n",
    "fig, ax = plt.subplots()\n",
    "ax = sns.boxplot(x='State', y='%', data=data_msi, order=order_list, \n",
    "                 palette = ['royalblue', 'darkorange'], showfliers=False, boxprops=dict(alpha=0.6))\n",
    "# add stripplot\n",
    "np.random.seed(10)\n",
    "ax = sns.stripplot(x='State', y='%', data=data_msi, order=order_list, \n",
    "                   jitter=0.2, size=6, palette = ['mediumblue', 'orangered'])\n",
    "\n",
    "# Labelling outliers\n",
    "from matplotlib.cbook import boxplot_stats\n",
    "outliers_df = pd.DataFrame(columns = ['sample', '%', 'State'])\n",
    "for state in data_msi['State'].unique():\n",
    "        outliers = [y for stat in boxplot_stats(data_msi[data_msi['State'] == state]['%']) for y in stat['fliers']]\n",
    "        if outliers != []:\n",
    "                for outlier in outliers:\n",
    "                        outliers_df = outliers_df.append(data_msi[(data_msi['State'] == state) & (data_msi['%'] == outlier)])\n",
    "\n",
    "# Annotating manually\n",
    "ax.annotate(s=outliers_df['sample'][15], xy=(0, outliers_df['%'][15]), xytext=(-17,0), textcoords='offset points', fontsize=14)\n",
    "ax.annotate(s=outliers_df['sample'][79], xy=(0, outliers_df['%'][79]), xytext=(-10,0), textcoords='offset points', fontsize=14)\n",
    "ax.annotate(s=outliers_df['sample'][81], xy=(0, outliers_df['%'][81]), xytext=(25,0), textcoords='offset points', fontsize=14)\n",
    "ax.annotate(s=data_msi['sample'][25], xy=(1, data_msi['%'][25]), xytext=(-65,5), textcoords='offset points', fontsize=14, color = 'dimgray')\n",
    "ax.annotate(s=data_msi['sample'][26], xy=(1, data_msi['%'][26]), xytext=(-22,-15), textcoords='offset points', fontsize=14, color = 'dimgray')\n",
    "ax.annotate(s=data_msi['sample'][62], xy=(1, data_msi['%'][62]), xytext=(7,-12), textcoords='offset points', fontsize=14, color = 'dimgray')\n",
    "ax.annotate(s=data_msi['sample'][99], xy=(1, data_msi['%'][99]), xytext=(35,5), textcoords='offset points', fontsize=14, color = 'dimgray')\n",
    "#ax.annotate(s=data_msi['sample'][30], xy=(1, data_msi['%'][30]), xytext=(17,-14), textcoords='offset points', fontsize=14, color = 'dimgray')\n",
    "#ax.annotate(s=data_msi['sample'][35], xy=(1, data_msi['%'][35]), xytext=(-75,-14), textcoords='offset points', fontsize=14, color = 'dimgray')\n",
    "\n",
    "ax.set_xlabel(\"Clinical MMR status\",fontsize=15)\n",
    "ax.set_ylabel(\"Percentage of MS regions with MSI\",fontsize=15)\n",
    "ax.tick_params(labelsize=13.5)\n",
    "\n",
    "# Annotating outliers\n",
    "#i=3\n",
    "#j=30\n",
    "#for row in outliers_df.iterrows():\n",
    "#        i=i*(-1)\n",
    "#        j=j*(-1)\n",
    "#        if row[1]['State'] == \"MMRp\":\n",
    "#            ax.annotate(s=row[1]['sample'], xy=(0, row[1]['%']), xytext=(j,i), textcoords='offset points', fontsize=12)\n",
    "#        else:\n",
    "#            ax.annotate(s=row[1]['sample'], xy=(2, row[1]['%']), xytext=(j,i), textcoords='offset points', fontsize=12)\n",
    "\n",
    "# Adding statistical significance\n",
    "\n",
    "import statannot\n",
    "statannot.add_stat_annotation(\n",
    "    ax,\n",
    "    data=data_msi,\n",
    "    x='State',\n",
    "    y='%',\n",
    "    box_pairs=[(\"MMRp\", \"MMRd\")],\n",
    "    order = ['MMRp', 'MMRd'],\n",
    "    test=\"Mann-Whitney\",\n",
    "    text_format=\"star\",\n",
    "    loc=\"inside\")\n",
    "\n",
    "#plt.show()\n",
    "plt.title(\"MSI\", fontsize= 16)\n",
    "plt.savefig('./MSI_boxplot_poster.png');"
   ]
  },
  {
   "cell_type": "code",
   "execution_count": 174,
   "metadata": {},
   "outputs": [
    {
     "data": {
      "text/html": [
       "<div>\n",
       "<style scoped>\n",
       "    .dataframe tbody tr th:only-of-type {\n",
       "        vertical-align: middle;\n",
       "    }\n",
       "\n",
       "    .dataframe tbody tr th {\n",
       "        vertical-align: top;\n",
       "    }\n",
       "\n",
       "    .dataframe thead th {\n",
       "        text-align: right;\n",
       "    }\n",
       "</style>\n",
       "<table border=\"1\" class=\"dataframe\">\n",
       "  <thead>\n",
       "    <tr style=\"text-align: right;\">\n",
       "      <th></th>\n",
       "      <th>sample</th>\n",
       "      <th>%</th>\n",
       "      <th>State</th>\n",
       "    </tr>\n",
       "  </thead>\n",
       "  <tbody>\n",
       "    <tr>\n",
       "      <th>15</th>\n",
       "      <td>LP9</td>\n",
       "      <td>13.79</td>\n",
       "      <td>MMRp</td>\n",
       "    </tr>\n",
       "    <tr>\n",
       "      <th>79</th>\n",
       "      <td>MDA26</td>\n",
       "      <td>20.00</td>\n",
       "      <td>MMRp</td>\n",
       "    </tr>\n",
       "    <tr>\n",
       "      <th>81</th>\n",
       "      <td>OVE17</td>\n",
       "      <td>14.29</td>\n",
       "      <td>MMRp</td>\n",
       "    </tr>\n",
       "  </tbody>\n",
       "</table>\n",
       "</div>"
      ],
      "text/plain": [
       "   sample      % State\n",
       "15    LP9  13.79  MMRp\n",
       "79  MDA26  20.00  MMRp\n",
       "81  OVE17  14.29  MMRp"
      ]
     },
     "execution_count": 174,
     "metadata": {},
     "output_type": "execute_result"
    }
   ],
   "source": [
    "outliers_df"
   ]
  },
  {
   "cell_type": "code",
   "execution_count": 178,
   "metadata": {},
   "outputs": [
    {
     "data": {
      "text/html": [
       "<div>\n",
       "<style scoped>\n",
       "    .dataframe tbody tr th:only-of-type {\n",
       "        vertical-align: middle;\n",
       "    }\n",
       "\n",
       "    .dataframe tbody tr th {\n",
       "        vertical-align: top;\n",
       "    }\n",
       "\n",
       "    .dataframe thead th {\n",
       "        text-align: right;\n",
       "    }\n",
       "</style>\n",
       "<table border=\"1\" class=\"dataframe\">\n",
       "  <thead>\n",
       "    <tr style=\"text-align: right;\">\n",
       "      <th></th>\n",
       "      <th>sample</th>\n",
       "      <th>%</th>\n",
       "      <th>State</th>\n",
       "    </tr>\n",
       "  </thead>\n",
       "  <tbody>\n",
       "    <tr>\n",
       "      <th>4</th>\n",
       "      <td>LP16</td>\n",
       "      <td>51.35</td>\n",
       "      <td>MMRd</td>\n",
       "    </tr>\n",
       "    <tr>\n",
       "      <th>5</th>\n",
       "      <td>LP17</td>\n",
       "      <td>35.00</td>\n",
       "      <td>MMRd</td>\n",
       "    </tr>\n",
       "    <tr>\n",
       "      <th>6</th>\n",
       "      <td>LP18</td>\n",
       "      <td>43.86</td>\n",
       "      <td>MMRd</td>\n",
       "    </tr>\n",
       "    <tr>\n",
       "      <th>8</th>\n",
       "      <td>LP21</td>\n",
       "      <td>37.10</td>\n",
       "      <td>MMRd</td>\n",
       "    </tr>\n",
       "    <tr>\n",
       "      <th>9</th>\n",
       "      <td>LP22</td>\n",
       "      <td>29.03</td>\n",
       "      <td>MMRd</td>\n",
       "    </tr>\n",
       "    <tr>\n",
       "      <th>22</th>\n",
       "      <td>16T131</td>\n",
       "      <td>38.89</td>\n",
       "      <td>MMRd</td>\n",
       "    </tr>\n",
       "    <tr>\n",
       "      <th>29</th>\n",
       "      <td>LP30</td>\n",
       "      <td>73.68</td>\n",
       "      <td>MMRd</td>\n",
       "    </tr>\n",
       "    <tr>\n",
       "      <th>34</th>\n",
       "      <td>LP37</td>\n",
       "      <td>73.08</td>\n",
       "      <td>MMRd</td>\n",
       "    </tr>\n",
       "    <tr>\n",
       "      <th>53</th>\n",
       "      <td>OVE64</td>\n",
       "      <td>44.44</td>\n",
       "      <td>MMRd</td>\n",
       "    </tr>\n",
       "    <tr>\n",
       "      <th>66</th>\n",
       "      <td>MDA16</td>\n",
       "      <td>41.79</td>\n",
       "      <td>MMRd</td>\n",
       "    </tr>\n",
       "    <tr>\n",
       "      <th>95</th>\n",
       "      <td>OVE31</td>\n",
       "      <td>11.63</td>\n",
       "      <td>MMRd</td>\n",
       "    </tr>\n",
       "    <tr>\n",
       "      <th>96</th>\n",
       "      <td>MDA9</td>\n",
       "      <td>20.00</td>\n",
       "      <td>MMRd</td>\n",
       "    </tr>\n",
       "    <tr>\n",
       "      <th>135</th>\n",
       "      <td>OVE86</td>\n",
       "      <td>33.33</td>\n",
       "      <td>MMRd</td>\n",
       "    </tr>\n",
       "  </tbody>\n",
       "</table>\n",
       "</div>"
      ],
      "text/plain": [
       "     sample      % State\n",
       "4      LP16  51.35  MMRd\n",
       "5      LP17  35.00  MMRd\n",
       "6      LP18  43.86  MMRd\n",
       "8      LP21  37.10  MMRd\n",
       "9      LP22  29.03  MMRd\n",
       "22   16T131  38.89  MMRd\n",
       "29     LP30  73.68  MMRd\n",
       "34     LP37  73.08  MMRd\n",
       "53    OVE64  44.44  MMRd\n",
       "66    MDA16  41.79  MMRd\n",
       "95    OVE31  11.63  MMRd\n",
       "96     MDA9  20.00  MMRd\n",
       "135   OVE86  33.33  MMRd"
      ]
     },
     "execution_count": 178,
     "metadata": {},
     "output_type": "execute_result"
    }
   ],
   "source": [
    "data_msi[(data_msi['State']==\"MMRd\") & (data_msi['%']>10)]"
   ]
  },
  {
   "cell_type": "code",
   "execution_count": 154,
   "metadata": {},
   "outputs": [
    {
     "data": {
      "text/plain": [
       "120"
      ]
     },
     "execution_count": 154,
     "metadata": {},
     "output_type": "execute_result"
    }
   ],
   "source": [
    "len(data_msi[data_msi['State']==\"MMRp\"])"
   ]
  }
 ],
 "metadata": {
  "kernelspec": {
   "display_name": "Python 3",
   "language": "python",
   "name": "python3"
  },
  "language_info": {
   "codemirror_mode": {
    "name": "ipython",
    "version": 3
   },
   "file_extension": ".py",
   "mimetype": "text/x-python",
   "name": "python",
   "nbconvert_exporter": "python",
   "pygments_lexer": "ipython3",
   "version": "3.7.3"
  }
 },
 "nbformat": 4,
 "nbformat_minor": 2
}
