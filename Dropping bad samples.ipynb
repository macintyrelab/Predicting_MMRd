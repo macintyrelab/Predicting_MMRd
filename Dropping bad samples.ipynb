{
 "cells": [
  {
   "cell_type": "code",
   "execution_count": 1,
   "metadata": {},
   "outputs": [],
   "source": [
    "# Import file\n",
    "import pandas as pd\n",
    "df_final = pd.read_csv(\"./Drivers/OC_curated_Germline_drivers_old-tech_VC_10.txt\", sep=\"\\t\")"
   ]
  },
  {
   "cell_type": "code",
   "execution_count": 2,
   "metadata": {},
   "outputs": [
    {
     "ename": "KeyError",
     "evalue": "'sampleID'",
     "output_type": "error",
     "traceback": [
      "\u001b[0;31m---------------------------------------------------------------------------\u001b[0m",
      "\u001b[0;31mKeyError\u001b[0m                                  Traceback (most recent call last)",
      "\u001b[0;32m~/Anaconda/lib/python3.7/site-packages/pandas/core/indexes/base.py\u001b[0m in \u001b[0;36mget_loc\u001b[0;34m(self, key, method, tolerance)\u001b[0m\n\u001b[1;32m   2656\u001b[0m             \u001b[0;32mtry\u001b[0m\u001b[0;34m:\u001b[0m\u001b[0;34m\u001b[0m\u001b[0;34m\u001b[0m\u001b[0m\n\u001b[0;32m-> 2657\u001b[0;31m                 \u001b[0;32mreturn\u001b[0m \u001b[0mself\u001b[0m\u001b[0;34m.\u001b[0m\u001b[0m_engine\u001b[0m\u001b[0;34m.\u001b[0m\u001b[0mget_loc\u001b[0m\u001b[0;34m(\u001b[0m\u001b[0mkey\u001b[0m\u001b[0;34m)\u001b[0m\u001b[0;34m\u001b[0m\u001b[0;34m\u001b[0m\u001b[0m\n\u001b[0m\u001b[1;32m   2658\u001b[0m             \u001b[0;32mexcept\u001b[0m \u001b[0mKeyError\u001b[0m\u001b[0;34m:\u001b[0m\u001b[0;34m\u001b[0m\u001b[0;34m\u001b[0m\u001b[0m\n",
      "\u001b[0;32mpandas/_libs/index.pyx\u001b[0m in \u001b[0;36mpandas._libs.index.IndexEngine.get_loc\u001b[0;34m()\u001b[0m\n",
      "\u001b[0;32mpandas/_libs/index.pyx\u001b[0m in \u001b[0;36mpandas._libs.index.IndexEngine.get_loc\u001b[0;34m()\u001b[0m\n",
      "\u001b[0;32mpandas/_libs/hashtable_class_helper.pxi\u001b[0m in \u001b[0;36mpandas._libs.hashtable.PyObjectHashTable.get_item\u001b[0;34m()\u001b[0m\n",
      "\u001b[0;32mpandas/_libs/hashtable_class_helper.pxi\u001b[0m in \u001b[0;36mpandas._libs.hashtable.PyObjectHashTable.get_item\u001b[0;34m()\u001b[0m\n",
      "\u001b[0;31mKeyError\u001b[0m: 'sampleID'",
      "\nDuring handling of the above exception, another exception occurred:\n",
      "\u001b[0;31mKeyError\u001b[0m                                  Traceback (most recent call last)",
      "\u001b[0;32m<ipython-input-2-abba3dc17c7d>\u001b[0m in \u001b[0;36m<module>\u001b[0;34m\u001b[0m\n\u001b[1;32m      1\u001b[0m \u001b[0;31m# Removing non-significant samples of OVAseq_1\u001b[0m\u001b[0;34m\u001b[0m\u001b[0;34m\u001b[0m\u001b[0;34m\u001b[0m\u001b[0m\n\u001b[0;32m----> 2\u001b[0;31m \u001b[0mdf_OVAseq_1\u001b[0m \u001b[0;34m=\u001b[0m \u001b[0mdf_final\u001b[0m\u001b[0;34m.\u001b[0m\u001b[0mdrop\u001b[0m\u001b[0;34m(\u001b[0m\u001b[0mdf_final\u001b[0m\u001b[0;34m.\u001b[0m\u001b[0mindex\u001b[0m\u001b[0;34m[\u001b[0m\u001b[0;34m(\u001b[0m\u001b[0mdf_final\u001b[0m\u001b[0;34m[\u001b[0m\u001b[0;34m'sampleID'\u001b[0m\u001b[0;34m]\u001b[0m \u001b[0;34m==\u001b[0m \u001b[0;34m\"X19N132\"\u001b[0m\u001b[0;34m)\u001b[0m\u001b[0;34m]\u001b[0m\u001b[0;34m)\u001b[0m\u001b[0;34m\u001b[0m\u001b[0;34m\u001b[0m\u001b[0m\n\u001b[0m\u001b[1;32m      3\u001b[0m \u001b[0mdf_OVAseq_1\u001b[0m \u001b[0;34m=\u001b[0m \u001b[0mdf_OVAseq_1\u001b[0m\u001b[0;34m.\u001b[0m\u001b[0mdrop\u001b[0m\u001b[0;34m(\u001b[0m\u001b[0mdf_OVAseq_1\u001b[0m\u001b[0;34m.\u001b[0m\u001b[0mindex\u001b[0m\u001b[0;34m[\u001b[0m\u001b[0;34m(\u001b[0m\u001b[0mdf_OVAseq_1\u001b[0m\u001b[0;34m[\u001b[0m\u001b[0;34m'sampleID'\u001b[0m\u001b[0;34m]\u001b[0m \u001b[0;34m==\u001b[0m \u001b[0;34m\"OVE108NR\"\u001b[0m\u001b[0;34m)\u001b[0m\u001b[0;34m]\u001b[0m\u001b[0;34m)\u001b[0m\u001b[0;34m\u001b[0m\u001b[0;34m\u001b[0m\u001b[0m\n\u001b[1;32m      4\u001b[0m \u001b[0mdf_OVAseq_1\u001b[0m \u001b[0;34m=\u001b[0m \u001b[0mdf_OVAseq_1\u001b[0m\u001b[0;34m.\u001b[0m\u001b[0mdrop\u001b[0m\u001b[0;34m(\u001b[0m\u001b[0mdf_OVAseq_1\u001b[0m\u001b[0;34m.\u001b[0m\u001b[0mindex\u001b[0m\u001b[0;34m[\u001b[0m\u001b[0;34m(\u001b[0m\u001b[0mdf_OVAseq_1\u001b[0m\u001b[0;34m[\u001b[0m\u001b[0;34m'sampleID'\u001b[0m\u001b[0;34m]\u001b[0m \u001b[0;34m==\u001b[0m \u001b[0;34m\"OVE86NR\"\u001b[0m\u001b[0;34m)\u001b[0m\u001b[0;34m]\u001b[0m\u001b[0;34m)\u001b[0m\u001b[0;34m\u001b[0m\u001b[0;34m\u001b[0m\u001b[0m\n\u001b[1;32m      5\u001b[0m \u001b[0mdf_OVAseq_1\u001b[0m \u001b[0;34m=\u001b[0m \u001b[0mdf_OVAseq_1\u001b[0m\u001b[0;34m.\u001b[0m\u001b[0mdrop\u001b[0m\u001b[0;34m(\u001b[0m\u001b[0mdf_OVAseq_1\u001b[0m\u001b[0;34m.\u001b[0m\u001b[0mindex\u001b[0m\u001b[0;34m[\u001b[0m\u001b[0;34m(\u001b[0m\u001b[0mdf_OVAseq_1\u001b[0m\u001b[0;34m[\u001b[0m\u001b[0;34m'sampleID'\u001b[0m\u001b[0;34m]\u001b[0m \u001b[0;34m==\u001b[0m \u001b[0;34m\"OVE64NR\"\u001b[0m\u001b[0;34m)\u001b[0m\u001b[0;34m]\u001b[0m\u001b[0;34m)\u001b[0m\u001b[0;34m\u001b[0m\u001b[0;34m\u001b[0m\u001b[0m\n",
      "\u001b[0;32m~/Anaconda/lib/python3.7/site-packages/pandas/core/frame.py\u001b[0m in \u001b[0;36m__getitem__\u001b[0;34m(self, key)\u001b[0m\n\u001b[1;32m   2925\u001b[0m             \u001b[0;32mif\u001b[0m \u001b[0mself\u001b[0m\u001b[0;34m.\u001b[0m\u001b[0mcolumns\u001b[0m\u001b[0;34m.\u001b[0m\u001b[0mnlevels\u001b[0m \u001b[0;34m>\u001b[0m \u001b[0;36m1\u001b[0m\u001b[0;34m:\u001b[0m\u001b[0;34m\u001b[0m\u001b[0;34m\u001b[0m\u001b[0m\n\u001b[1;32m   2926\u001b[0m                 \u001b[0;32mreturn\u001b[0m \u001b[0mself\u001b[0m\u001b[0;34m.\u001b[0m\u001b[0m_getitem_multilevel\u001b[0m\u001b[0;34m(\u001b[0m\u001b[0mkey\u001b[0m\u001b[0;34m)\u001b[0m\u001b[0;34m\u001b[0m\u001b[0;34m\u001b[0m\u001b[0m\n\u001b[0;32m-> 2927\u001b[0;31m             \u001b[0mindexer\u001b[0m \u001b[0;34m=\u001b[0m \u001b[0mself\u001b[0m\u001b[0;34m.\u001b[0m\u001b[0mcolumns\u001b[0m\u001b[0;34m.\u001b[0m\u001b[0mget_loc\u001b[0m\u001b[0;34m(\u001b[0m\u001b[0mkey\u001b[0m\u001b[0;34m)\u001b[0m\u001b[0;34m\u001b[0m\u001b[0;34m\u001b[0m\u001b[0m\n\u001b[0m\u001b[1;32m   2928\u001b[0m             \u001b[0;32mif\u001b[0m \u001b[0mis_integer\u001b[0m\u001b[0;34m(\u001b[0m\u001b[0mindexer\u001b[0m\u001b[0;34m)\u001b[0m\u001b[0;34m:\u001b[0m\u001b[0;34m\u001b[0m\u001b[0;34m\u001b[0m\u001b[0m\n\u001b[1;32m   2929\u001b[0m                 \u001b[0mindexer\u001b[0m \u001b[0;34m=\u001b[0m \u001b[0;34m[\u001b[0m\u001b[0mindexer\u001b[0m\u001b[0;34m]\u001b[0m\u001b[0;34m\u001b[0m\u001b[0;34m\u001b[0m\u001b[0m\n",
      "\u001b[0;32m~/Anaconda/lib/python3.7/site-packages/pandas/core/indexes/base.py\u001b[0m in \u001b[0;36mget_loc\u001b[0;34m(self, key, method, tolerance)\u001b[0m\n\u001b[1;32m   2657\u001b[0m                 \u001b[0;32mreturn\u001b[0m \u001b[0mself\u001b[0m\u001b[0;34m.\u001b[0m\u001b[0m_engine\u001b[0m\u001b[0;34m.\u001b[0m\u001b[0mget_loc\u001b[0m\u001b[0;34m(\u001b[0m\u001b[0mkey\u001b[0m\u001b[0;34m)\u001b[0m\u001b[0;34m\u001b[0m\u001b[0;34m\u001b[0m\u001b[0m\n\u001b[1;32m   2658\u001b[0m             \u001b[0;32mexcept\u001b[0m \u001b[0mKeyError\u001b[0m\u001b[0;34m:\u001b[0m\u001b[0;34m\u001b[0m\u001b[0;34m\u001b[0m\u001b[0m\n\u001b[0;32m-> 2659\u001b[0;31m                 \u001b[0;32mreturn\u001b[0m \u001b[0mself\u001b[0m\u001b[0;34m.\u001b[0m\u001b[0m_engine\u001b[0m\u001b[0;34m.\u001b[0m\u001b[0mget_loc\u001b[0m\u001b[0;34m(\u001b[0m\u001b[0mself\u001b[0m\u001b[0;34m.\u001b[0m\u001b[0m_maybe_cast_indexer\u001b[0m\u001b[0;34m(\u001b[0m\u001b[0mkey\u001b[0m\u001b[0;34m)\u001b[0m\u001b[0;34m)\u001b[0m\u001b[0;34m\u001b[0m\u001b[0;34m\u001b[0m\u001b[0m\n\u001b[0m\u001b[1;32m   2660\u001b[0m         \u001b[0mindexer\u001b[0m \u001b[0;34m=\u001b[0m \u001b[0mself\u001b[0m\u001b[0;34m.\u001b[0m\u001b[0mget_indexer\u001b[0m\u001b[0;34m(\u001b[0m\u001b[0;34m[\u001b[0m\u001b[0mkey\u001b[0m\u001b[0;34m]\u001b[0m\u001b[0;34m,\u001b[0m \u001b[0mmethod\u001b[0m\u001b[0;34m=\u001b[0m\u001b[0mmethod\u001b[0m\u001b[0;34m,\u001b[0m \u001b[0mtolerance\u001b[0m\u001b[0;34m=\u001b[0m\u001b[0mtolerance\u001b[0m\u001b[0;34m)\u001b[0m\u001b[0;34m\u001b[0m\u001b[0;34m\u001b[0m\u001b[0m\n\u001b[1;32m   2661\u001b[0m         \u001b[0;32mif\u001b[0m \u001b[0mindexer\u001b[0m\u001b[0;34m.\u001b[0m\u001b[0mndim\u001b[0m \u001b[0;34m>\u001b[0m \u001b[0;36m1\u001b[0m \u001b[0;32mor\u001b[0m \u001b[0mindexer\u001b[0m\u001b[0;34m.\u001b[0m\u001b[0msize\u001b[0m \u001b[0;34m>\u001b[0m \u001b[0;36m1\u001b[0m\u001b[0;34m:\u001b[0m\u001b[0;34m\u001b[0m\u001b[0;34m\u001b[0m\u001b[0m\n",
      "\u001b[0;32mpandas/_libs/index.pyx\u001b[0m in \u001b[0;36mpandas._libs.index.IndexEngine.get_loc\u001b[0;34m()\u001b[0m\n",
      "\u001b[0;32mpandas/_libs/index.pyx\u001b[0m in \u001b[0;36mpandas._libs.index.IndexEngine.get_loc\u001b[0;34m()\u001b[0m\n",
      "\u001b[0;32mpandas/_libs/hashtable_class_helper.pxi\u001b[0m in \u001b[0;36mpandas._libs.hashtable.PyObjectHashTable.get_item\u001b[0;34m()\u001b[0m\n",
      "\u001b[0;32mpandas/_libs/hashtable_class_helper.pxi\u001b[0m in \u001b[0;36mpandas._libs.hashtable.PyObjectHashTable.get_item\u001b[0;34m()\u001b[0m\n",
      "\u001b[0;31mKeyError\u001b[0m: 'sampleID'"
     ]
    }
   ],
   "source": [
    "# Removing non-significant samples of OVAseq_1\n",
    "df_OVAseq_1 = df_final.drop(df_final.index[(df_final['sampleID'] == \"X19N132\")])\n",
    "df_OVAseq_1 = df_OVAseq_1.drop(df_OVAseq_1.index[(df_OVAseq_1['sampleID'] == \"OVE108NR\")])\n",
    "df_OVAseq_1 = df_OVAseq_1.drop(df_OVAseq_1.index[(df_OVAseq_1['sampleID'] == \"OVE86NR\")]) \n",
    "df_OVAseq_1 = df_OVAseq_1.drop(df_OVAseq_1.index[(df_OVAseq_1['sampleID'] == \"OVE64NR\")])\n",
    "df_OVAseq_1 = df_OVAseq_1.drop(df_OVAseq_1.index[(df_OVAseq_1['sampleID'] == \"OVE28N\")]) \n",
    "df_OVAseq_1 = df_OVAseq_1.drop(df_OVAseq_1.index[(df_OVAseq_1['sampleID'] == \"LP17N\")])\n",
    "df_OVAseq_1 = df_OVAseq_1.drop(df_OVAseq_1.index[(df_OVAseq_1['sampleID'] == \"LP21N\")]) \n",
    "df_OVAseq_1 = df_OVAseq_1.drop(df_OVAseq_1.index[(df_OVAseq_1['sampleID'] == \"LP22N\")])\n",
    "df_OVAseq_1 = df_OVAseq_1.drop(df_OVAseq_1.index[(df_OVAseq_1['sampleID'] == \"LP18N\")]) \n",
    "df_OVAseq_1 = df_OVAseq_1.drop(df_OVAseq_1.index[(df_OVAseq_1['sampleID'] == \"LP6\")])\n",
    "df_OVAseq_1 = df_OVAseq_1.drop(df_OVAseq_1.index[(df_OVAseq_1['sampleID'] == \"LP14\")]) \n",
    "df_OVAseq_1 = df_OVAseq_1.drop(df_OVAseq_1.index[(df_OVAseq_1['sampleID'] == \"OVE108\")])\n",
    "df_OVAseq_1 = df_OVAseq_1.drop(df_OVAseq_1.index[(df_OVAseq_1['sampleID'] == \"OVE14\")]) \n",
    "df_OVAseq_1 = df_OVAseq_1.drop(df_OVAseq_1.index[(df_OVAseq_1['sampleID'] == \"OVE16\")])\n",
    "df_OVAseq_1 = df_OVAseq_1.drop(df_OVAseq_1.index[(df_OVAseq_1['sampleID'] == \"OVE28\")]) \n",
    "df_OVAseq_1 = df_OVAseq_1.drop(df_OVAseq_1.index[(df_OVAseq_1['sampleID'] == \"OVE34\")])\n",
    "df_OVAseq_1 = df_OVAseq_1.drop(df_OVAseq_1.index[(df_OVAseq_1['sampleID'] == \"OVE41bis\")]) \n",
    "df_OVAseq_1 = df_OVAseq_1.drop(df_OVAseq_1.index[(df_OVAseq_1['sampleID'] == \"OVE42\")])\n",
    "df_OVAseq_1 = df_OVAseq_1.drop(df_OVAseq_1.index[(df_OVAseq_1['sampleID'] == \"LP7\")]) \n",
    "df_OVAseq_1 = df_OVAseq_1.drop(df_OVAseq_1.index[(df_OVAseq_1['sampleID'] == \"OVE58\")])\n",
    "df_OVAseq_1 = df_OVAseq_1.drop(df_OVAseq_1.index[(df_OVAseq_1['sampleID'] == \"OVE57\")])\n",
    "df_OVAseq_1 = df_OVAseq_1.drop(df_OVAseq_1.index[(df_OVAseq_1['sampleID'] == \"OVE59\")]) \n",
    "df_OVAseq_1 = df_OVAseq_1.drop(df_OVAseq_1.index[(df_OVAseq_1['sampleID'] == \"OVE61R\")])\n",
    "df_OVAseq_1 = df_OVAseq_1.drop(df_OVAseq_1.index[(df_OVAseq_1['sampleID'] == \"OVE64\")]) \n",
    "df_OVAseq_1 = df_OVAseq_1.drop(df_OVAseq_1.index[(df_OVAseq_1['sampleID'] == \"OVE6\")])\n",
    "df_OVAseq_1 = df_OVAseq_1.drop(df_OVAseq_1.index[(df_OVAseq_1['sampleID'] == \"OVE77\")]) \n",
    "df_OVAseq_1 = df_OVAseq_1.drop(df_OVAseq_1.index[(df_OVAseq_1['sampleID'] == \"X19T132\")])\n",
    "df_OVAseq_1[\"OVAseq\"] = \"OVAseq_1\""
   ]
  },
  {
   "cell_type": "code",
   "execution_count": 129,
   "metadata": {},
   "outputs": [],
   "source": [
    "# Removing non-significant samples of OVAseq_2\n",
    "df_OVAseq_2 = df_final.drop(df_final.index[(df_final['sampleID'] == \"LP6\")]) \n",
    "df_OVAseq_2 = df_OVAseq_2.drop(df_OVAseq_2.index[(df_OVAseq_2['sampleID'] == \"LP7\")]) \n",
    "df_OVAseq_2 = df_OVAseq_2.drop(df_OVAseq_2.index[(df_OVAseq_2['sampleID'] == \"LP35\")]) \n",
    "df_OVAseq_2 = df_OVAseq_2.drop(df_OVAseq_2.index[(df_OVAseq_2['sampleID'] == \"OVE108\")]) \n",
    "df_OVAseq_2 = df_OVAseq_2.drop(df_OVAseq_2.index[(df_OVAseq_2['sampleID'] == \"OVE16\")])\n",
    "df_OVAseq_2 = df_OVAseq_2.drop(df_OVAseq_2.index[(df_OVAseq_2['sampleID'] == \"OVE25\")])\n",
    "df_OVAseq_2 = df_OVAseq_2.drop(df_OVAseq_2.index[(df_OVAseq_2['sampleID'] == \"OVE35\")]) \n",
    "df_OVAseq_2 = df_OVAseq_2.drop(df_OVAseq_2.index[(df_OVAseq_2['sampleID'] == \"OVE41\")]) \n",
    "df_OVAseq_2 = df_OVAseq_2.drop(df_OVAseq_2.index[(df_OVAseq_2['sampleID'] == \"OVE42\")]) \n",
    "df_OVAseq_2 = df_OVAseq_2.drop(df_OVAseq_2.index[(df_OVAseq_2['sampleID'] == \"OVE43\")])\n",
    "df_OVAseq_2 = df_OVAseq_2.drop(df_OVAseq_2.index[(df_OVAseq_2['sampleID'] == \"OVE59\")])\n",
    "df_OVAseq_2 = df_OVAseq_2.drop(df_OVAseq_2.index[(df_OVAseq_2['sampleID'] == \"OVE61\")])  \n",
    "df_OVAseq_2 = df_OVAseq_2.drop(df_OVAseq_2.index[(df_OVAseq_2['sampleID'] == \"OVE63\")]) \n",
    "df_OVAseq_2 = df_OVAseq_2.drop(df_OVAseq_2.index[(df_OVAseq_2['sampleID'] == \"OVE74\")])\n",
    "df_OVAseq_2[\"OVAseq\"] = \"2\""
   ]
  },
  {
   "cell_type": "code",
   "execution_count": 205,
   "metadata": {},
   "outputs": [],
   "source": [
    "# Removing non-significant samples of OVAseq_4-6\n",
    "df_OVAseq_4_6_1 = df_final.drop(df_final.index[(df_final['sampleID'] == \"A1\")])\n",
    "df_OVAseq_4_6_1 = df_OVAseq_4_6_1.drop(df_OVAseq_4_6_1.index[(df_OVAseq_4_6_1['sampleID'] == \"B1\")])\n",
    "df_OVAseq_4_6_1 = df_OVAseq_4_6_1.drop(df_OVAseq_4_6_1.index[(df_OVAseq_4_6_1['sampleID'] == \"F3\")])\n",
    "df_OVAseq_4_6_1 = df_OVAseq_4_6_1.drop(df_OVAseq_4_6_1.index[(df_OVAseq_4_6_1['sampleID'] == \"G4\")])\n",
    "df_OVAseq_4_6_1 = df_OVAseq_4_6_1.drop(df_OVAseq_4_6_1.index[(df_OVAseq_4_6_1['sampleID'] == \"H4\")])\n",
    "df_OVAseq_4_6_1 = df_OVAseq_4_6_1.drop(df_OVAseq_4_6_1.index[(df_OVAseq_4_6_1['sampleID'] == \"F6\")])\n",
    "df_OVAseq_4_6_1 = df_OVAseq_4_6_1.drop(df_OVAseq_4_6_1.index[(df_OVAseq_4_6_1['sampleID'] == \"F5\")])\n",
    "df_OVAseq_4_6_1 = df_OVAseq_4_6_1.drop(df_OVAseq_4_6_1.index[(df_OVAseq_4_6_1['sampleID'] == \"H6\")])\n",
    "df_OVAseq_4_6_1[\"OVAseq\"] = \"4-6\""
   ]
  },
  {
   "cell_type": "code",
   "execution_count": 119,
   "metadata": {},
   "outputs": [],
   "source": [
    "# Removing non-significant samples of OVAseq_4-6\n",
    "df_OVAseq_4_6_2 = df_final.drop(df_final.index[(df_final['sampleID'] == \"A1\")])\n",
    "df_OVAseq_4_6_2 = df_OVAseq_4_6_2.drop(df_OVAseq_4_6_2.index[(df_OVAseq_4_6_2['sampleID'] == \"B1\")])\n",
    "df_OVAseq_4_6_2 = df_OVAseq_4_6_2.drop(df_OVAseq_4_6_2.index[(df_OVAseq_4_6_2['sampleID'] == \"F3\")])\n",
    "df_OVAseq_4_6_2 = df_OVAseq_4_6_2.drop(df_OVAseq_4_6_2.index[(df_OVAseq_4_6_2['sampleID'] == \"C4\")])\n",
    "df_OVAseq_4_6_2 = df_OVAseq_4_6_2.drop(df_OVAseq_4_6_2.index[(df_OVAseq_4_6_2['sampleID'] == \"H4\")])\n",
    "df_OVAseq_4_6_2 = df_OVAseq_4_6_2.drop(df_OVAseq_4_6_2.index[(df_OVAseq_4_6_2['sampleID'] == \"B5\")])\n",
    "df_OVAseq_4_6_2 = df_OVAseq_4_6_2.drop(df_OVAseq_4_6_2.index[(df_OVAseq_4_6_2['sampleID'] == \"F5\")])\n",
    "df_OVAseq_4_6_2 = df_OVAseq_4_6_2.drop(df_OVAseq_4_6_2.index[(df_OVAseq_4_6_2['sampleID'] == \"G5\")])\n",
    "df_OVAseq_4_6_2[\"OVAseq\"] = \"4-6\""
   ]
  },
  {
   "cell_type": "code",
   "execution_count": 178,
   "metadata": {},
   "outputs": [],
   "source": [
    "# Removing non-significant samples of OVAseq_4-6\n",
    "df_OVAseq_4_6_4 = df_final.drop(df_final.index[(df_final['sampleID'] == \"A1\")])\n",
    "df_OVAseq_4_6_4 = df_OVAseq_4_6_4.drop(df_OVAseq_4_6_4.index[(df_OVAseq_4_6_4['sampleID'] == \"B1\")])\n",
    "df_OVAseq_4_6_4[\"OVAseq\"] = \"4-6\""
   ]
  },
  {
   "cell_type": "code",
   "execution_count": 134,
   "metadata": {},
   "outputs": [],
   "source": [
    "# Removing non-significant samples of OVAseq_9-11\n",
    "df_OVAseq_9_11 = df_final.drop(df_final.index[(df_final['sampleID'] == \"21S685\")]) \n",
    "df_OVAseq_9_11 = df_OVAseq_9_11.drop(df_OVAseq_9_11.index[(df_OVAseq_9_11['sampleID'] == \"21S681\")]) \n",
    "df_OVAseq_9_11 = df_OVAseq_9_11.drop(df_OVAseq_9_11.index[(df_OVAseq_9_11['sampleID'] == \"21S571\")]) \n",
    "df_OVAseq_9_11 = df_OVAseq_9_11.drop(df_OVAseq_9_11.index[(df_OVAseq_9_11['sampleID'] == \"32S545\")]) \n",
    "df_OVAseq_9_11 = df_OVAseq_9_11.drop(df_OVAseq_9_11.index[(df_OVAseq_9_11['sampleID'] == \"21S529\")]) \n",
    "df_OVAseq_9_11 = df_OVAseq_9_11.drop(df_OVAseq_9_11.index[(df_OVAseq_9_11['sampleID'] == \"LP17N\")]) \n",
    "df_OVAseq_9_11 = df_OVAseq_9_11.drop(df_OVAseq_9_11.index[(df_OVAseq_9_11['sampleID'] == \"LP21N\")]) \n",
    "df_OVAseq_9_11 = df_OVAseq_9_11.drop(df_OVAseq_9_11.index[(df_OVAseq_9_11['sampleID'] == \"LP22N\")]) \n",
    "df_OVAseq_9_11 = df_OVAseq_9_11.drop(df_OVAseq_9_11.index[(df_OVAseq_9_11['sampleID'] == \"20T332\")]) \n",
    "df_OVAseq_9_11 = df_OVAseq_9_11.drop(df_OVAseq_9_11.index[(df_OVAseq_9_11['sampleID'] == \"LP18N\")])\n",
    "df_OVAseq_9_11[\"OVAseq\"] = \"9_11\""
   ]
  },
  {
   "cell_type": "code",
   "execution_count": 206,
   "metadata": {},
   "outputs": [
    {
     "data": {
      "text/plain": [
       "7202"
      ]
     },
     "execution_count": 206,
     "metadata": {},
     "output_type": "execute_result"
    }
   ],
   "source": [
    "len(df_final)"
   ]
  },
  {
   "cell_type": "code",
   "execution_count": 207,
   "metadata": {},
   "outputs": [
    {
     "data": {
      "text/plain": [
       "5948"
      ]
     },
     "execution_count": 207,
     "metadata": {},
     "output_type": "execute_result"
    }
   ],
   "source": [
    "len(df_OVAseq_4_6_1)"
   ]
  },
  {
   "cell_type": "code",
   "execution_count": 208,
   "metadata": {},
   "outputs": [],
   "source": [
    "df_OVAseq_4_6_1.to_csv(\"./Variant_Calling/Curated_VC/OVAseq_4_6__2_curated_VC.txt\", sep = \"\\t\", index=False)"
   ]
  },
  {
   "cell_type": "code",
   "execution_count": null,
   "metadata": {},
   "outputs": [],
   "source": []
  }
 ],
 "metadata": {
  "kernelspec": {
   "display_name": "Python 3",
   "language": "python",
   "name": "python3"
  },
  "language_info": {
   "codemirror_mode": {
    "name": "ipython",
    "version": 3
   },
   "file_extension": ".py",
   "mimetype": "text/x-python",
   "name": "python",
   "nbconvert_exporter": "python",
   "pygments_lexer": "ipython3",
   "version": "3.7.3"
  }
 },
 "nbformat": 4,
 "nbformat_minor": 2
}
